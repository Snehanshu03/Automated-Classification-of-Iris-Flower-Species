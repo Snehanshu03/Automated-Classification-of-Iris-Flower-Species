{
  "cells": [
    {
      "cell_type": "markdown",
      "metadata": {
        "id": "84174d5a"
      },
      "source": [
        "# **Automated Classification of Iris Flower Species**\n",
        "\n",
        "This project demonstrates how to use a Decision Tree Classifier to predict the species of Iris flowers based on their measurements.\n",
        "\n",
        "## **Project Overview**\n",
        "\n",
        "The goal of this project is to build a machine learning model that can accurately classify Iris flowers into one of three species: setosa, versicolor, or virginica, using the well-known Iris dataset.\n",
        "\n",
        "The workflow includes:\n",
        "\n",
        "1.  **Loading the Dataset**: The Iris dataset, which is included in the scikit-learn library, is loaded.\n",
        "2.  **Data Preparation**: The data is split into features (measurements) and the target (species). The target variable is mapped from numerical representation to actual species names for better readability.\n",
        "3.  **Data Splitting**: The dataset is divided into training and testing sets to train and evaluate the model.\n",
        "4.  **Model Training**: A Decision Tree Classifier is trained on the training data.\n",
        "5.  **Model Evaluation**: The trained model is evaluated on the test data using accuracy and a classification report.\n",
        "6.  **Prediction**: The model is used to predict the species of a new, unseen Iris flower based on its measurements.\n",
        "\n",
        "## **Requirements**\n",
        "\n",
        "*   Python 3.6+\n",
        "*   scikit-learn\n",
        "*   pandas\n",
        "\n"
      ]
    },
    {
      "cell_type": "code",
      "source": [
        "# Import libraries\n",
        "from sklearn.datasets import load_iris\n",
        "from sklearn.model_selection import train_test_split\n",
        "from sklearn.tree import DecisionTreeClassifier\n",
        "from sklearn.metrics import classification_report, accuracy_score\n",
        "import pandas as pd\n",
        "\n",
        "# 1. Load the Iris dataset\n",
        "iris = load_iris()\n",
        "# The features are the measurements, and the target is the species name.\n",
        "X = pd.DataFrame(iris.data, columns=iris.feature_names)\n",
        "y = pd.Series(iris.target, name='species')\n",
        "\n",
        "# Map target numbers to actual species names\n",
        "species_names = iris.target_names\n",
        "y = y.map({0: species_names[0], 1: species_names[1], 2: species_names[2]})\n",
        "\n",
        "# 2. Split the data into training and testing sets\n",
        "# We'll use 80% of the data for training and 20% for testing.\n",
        "X_train, X_test, y_train, y_test = train_test_split(X, y, test_size=0.2, random_state=42)\n",
        "\n",
        "# 3. Train the Decision Tree Classifier model\n",
        "# The model learns the patterns from the features (X_train) and the corresponding labels (y_train).\n",
        "model = DecisionTreeClassifier(random_state=42)\n",
        "model.fit(X_train, y_train)\n",
        "\n",
        "def run_iris_classification():\n",
        "    print(\"--- Iris Dataset Loaded ---\")\n",
        "    print(\"First 5 rows of features (X):\")\n",
        "    print(X.head())\n",
        "    print(\"\\nFirst 5 rows of target (y):\")\n",
        "    print(y.head())\n",
        "    print(\"-\" * 100 + \"\\n\")\n",
        "\n",
        "    print(\"--- Data Split ---\")\n",
        "    print(f\"Training set size: {len(X_train)} samples\")\n",
        "    print(f\"Testing set size: {len(X_test)} samples\")\n",
        "    print(\"-\" * 100 + \"\\n\")\n",
        "\n",
        "    print(\"--- Model Training Complete ---\")\n",
        "    print(\"Decision Tree Classifier has been trained on the training data.\")\n",
        "    print(\"-\" * 100 + \"\\n\")\n",
        "\n",
        "    # 4. Evaluate the model\n",
        "    y_pred = model.predict(X_test)\n",
        "\n",
        "    # Calculate the accuracy\n",
        "    accuracy = accuracy_score(y_test, y_pred)\n",
        "    report = classification_report(y_test, y_pred, target_names=species_names)\n",
        "\n",
        "    print(\"--- Model Evaluation ---\")\n",
        "    print(f\"Accuracy on Test Data: {accuracy:.2f}\")\n",
        "    print(\"\\nClassification Report:\")\n",
        "    print(report)\n",
        "    print(\"-\" * 100 + \"\\n\")\n",
        "\n",
        "# Run the main function when the script is executed\n",
        "if __name__ == \"__main__\":\n",
        "    run_iris_classification()"
      ],
      "outputs": [
        {
          "output_type": "stream",
          "name": "stdout",
          "text": [
            "--- Iris Dataset Loaded ---\n",
            "First 5 rows of features (X):\n",
            "   sepal length (cm)  sepal width (cm)  petal length (cm)  petal width (cm)\n",
            "0                5.1               3.5                1.4               0.2\n",
            "1                4.9               3.0                1.4               0.2\n",
            "2                4.7               3.2                1.3               0.2\n",
            "3                4.6               3.1                1.5               0.2\n",
            "4                5.0               3.6                1.4               0.2\n",
            "\n",
            "First 5 rows of target (y):\n",
            "0    setosa\n",
            "1    setosa\n",
            "2    setosa\n",
            "3    setosa\n",
            "4    setosa\n",
            "Name: species, dtype: object\n",
            "----------------------------------------------------------------------------------------------------\n",
            "\n",
            "--- Data Split ---\n",
            "Training set size: 120 samples\n",
            "Testing set size: 30 samples\n",
            "----------------------------------------------------------------------------------------------------\n",
            "\n",
            "--- Model Training Complete ---\n",
            "Decision Tree Classifier has been trained on the training data.\n",
            "----------------------------------------------------------------------------------------------------\n",
            "\n",
            "--- Model Evaluation ---\n",
            "Accuracy on Test Data: 1.00\n",
            "\n",
            "Classification Report:\n",
            "              precision    recall  f1-score   support\n",
            "\n",
            "      setosa       1.00      1.00      1.00        10\n",
            "  versicolor       1.00      1.00      1.00         9\n",
            "   virginica       1.00      1.00      1.00        11\n",
            "\n",
            "    accuracy                           1.00        30\n",
            "   macro avg       1.00      1.00      1.00        30\n",
            "weighted avg       1.00      1.00      1.00        30\n",
            "\n",
            "----------------------------------------------------------------------------------------------------\n",
            "\n"
          ]
        }
      ],
      "execution_count": 11,
      "metadata": {
        "colab": {
          "base_uri": "https://localhost:8080/"
        },
        "id": "36FSVG-6CKZS",
        "outputId": "83cb1ae8-45ce-47cb-8c95-e1fe5b4b1307"
      }
    },
    {
      "cell_type": "markdown",
      "metadata": {
        "id": "8fea9248"
      },
      "source": [
        "# **Now we can enter the measurements for the new flower in the next code cell.**"
      ]
    },
    {
      "cell_type": "code",
      "metadata": {
        "colab": {
          "base_uri": "https://localhost:8080/"
        },
        "id": "ce93fff4",
        "outputId": "854d4086-7661-4a16-c5f8-317b9afee70a"
      },
      "source": [
        "# Enter the measurements for the new flower here\n",
        "# For example: sepal_length = 5.1, sepal_width = 3.4, petal_length = 1.5, petal_width = 0.2\n",
        "\n",
        "sepal_length = 5.1 #@param{type:\"number\"}\n",
        "sepal_width = 3.4 #@param{type:\"number\"}\n",
        "petal_length = 1.5 #@param{type:\"number\"}\n",
        "petal_width = 0.2 #@param{type:\"number\"}\n",
        "\n",
        "new_flower_data = [[sepal_length, sepal_width, petal_length, petal_width]]\n",
        "\n",
        "# Create a DataFrame for the new data with correct column names\n",
        "new_flower_df = pd.DataFrame(new_flower_data, columns=iris.feature_names)\n",
        "\n",
        "# Use  trained model to predict the species\n",
        "prediction = model.predict(new_flower_df)\n",
        "\n",
        "print(\"--- Prediction for New Flower ---\")\n",
        "print(f\"Input measurements: {new_flower_data[0]}\")\n",
        "print(f\"Predicted Species: {prediction[0]}\")"
      ],
      "execution_count": 14,
      "outputs": [
        {
          "output_type": "stream",
          "name": "stdout",
          "text": [
            "--- Prediction for New Flower ---\n",
            "Input measurements: [5.1, 3.4, 1.5, 0.2]\n",
            "Predicted Species: setosa\n"
          ]
        }
      ]
    }
  ],
  "metadata": {
    "colab": {
      "provenance": []
    },
    "kernelspec": {
      "display_name": "Python 3",
      "name": "python3"
    }
  },
  "nbformat": 4,
  "nbformat_minor": 0
}
